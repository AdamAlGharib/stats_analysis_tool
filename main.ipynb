{
 "cells": [
  {
   "cell_type": "markdown",
   "id": "cfd967e6",
   "metadata": {},
   "source": [
    "# Testing Jupyter "
   ]
  },
  {
   "cell_type": "code",
   "execution_count": 32,
   "id": "6c7435b1",
   "metadata": {},
   "outputs": [],
   "source": [
    "import pandas as pd\n",
    "import numpy as np\n",
    "from datetime import datetime\n",
    "\n",
    "df = pd.read_excel(\"daily_bitcoin_ohlc.xlsx\")\n",
    "\n",
    "# print(df.head())\n",
    "\n",
    "def calculate_daily_returns(df) -> pd.Series:\n",
    "    \"\"\"\n",
    "        Calculate the daily returns from a DataFrame with a 'Close' column.\n",
    "\n",
    "        Parameters:\n",
    "            df (pd.DataFrame): DataFrame containing historical price data with a 'Close' column.\n",
    "\n",
    "        Returns:\n",
    "            pd.Series: A Series of daily return values (as decimal percentages).\n",
    "    \"\"\"\n",
    "\n",
    "    daily_returns = df['close'].pct_change()\n",
    "    # .pct_change() is a built in pandas method \n",
    "    # ( calculates the percentage change between the current and the prev element)\n",
    "    return daily_returns\n",
    "\n",
    "df['timestamp'] = pd.to_datetime(df['timestamp'])\n",
    "\n",
    "df['Daily Return'] = calculate_daily_returns(df)"
   ]
  },
  {
   "cell_type": "markdown",
   "id": "ab80f0b9",
   "metadata": {},
   "source": []
  },
  {
   "cell_type": "code",
   "execution_count": 25,
   "id": "6ddce7d6",
   "metadata": {},
   "outputs": [],
   "source": [
    "def extract_date_components(timestamp_input) -> dict:\n",
    "    \"\"\"\n",
    "    Transform a timestamp (string in “YYYY-MM-DD HH:MM:SS” format *or* a\n",
    "    datetime.datetime object) into a dictionary of calendar-based features.\n",
    "\n",
    "    Parameters\n",
    "    ----------\n",
    "    timestamp_input : str | datetime.datetime\n",
    "        Either the timestamp string (e.g. \"2023-10-26 14:30:00\")\n",
    "        or an already-parsed datetime object.\n",
    "\n",
    "    Returns\n",
    "    -------\n",
    "    dict\n",
    "        {\n",
    "            \"year\":               2023,\n",
    "            \"quarter\":            4,\n",
    "            \"month_number\":       10,\n",
    "            \"month_name\":         \"October\",\n",
    "            \"week_of_year\":       43,      # ISO-8601 week number\n",
    "            \"day_of_week_number\": 4,       # Monday=1 … Sunday=7  (ISO)\n",
    "            \"day_of_week_name\":   \"Thursday\"\n",
    "        }\n",
    "    \"\"\"\n",
    "\n",
    "# Checks if timestamp input is of instance/type datetime\n",
    "    if isinstance(timestamp_input, datetime):\n",
    "        dt = timestamp_input\n",
    "    elif isinstance(timestamp_input, str):\n",
    "        try:   \n",
    "            dt = datetime.strptime(timestamp_input, \"%Y-%m-%d %H:%M:%S\")\n",
    "        except ValueError as exc:          \n",
    "            raise ValueError(\n",
    "                \"Timestamp string must match 'YYYY-MM-DD HH:MM:SS'\"\n",
    "            ) from exc\n",
    "    else:\n",
    "        raise TypeError(\n",
    "            \"timestamp_input must be a datetime object or a timestamp string\"\n",
    "        )\n",
    "\n",
    "\n",
    "    features = {\n",
    "         \"year\":               dt.year,\n",
    "        \"quarter\":            (dt.month - 1) // 3 + 1,          # 1–4\n",
    "        \"month_number\":       dt.month,                         # 1–12\n",
    "        \"month_name\":         dt.strftime(\"%B\"),                # \"January\"\n",
    "        \"week_number\":         dt.isocalendar().week,         # \"January\"\n",
    "        \"day_of_week_number\": dt.weekday() + 1,                    # 1=Mon … 7=Sun\n",
    "        \"day_of_week_name\":   dt.strftime(\"%A\"),                # \"Monday\"…\n",
    "    }\n",
    "\n",
    "    return features"
   ]
  },
  {
   "cell_type": "code",
   "execution_count": 26,
   "id": "a55318a8",
   "metadata": {},
   "outputs": [
    {
     "name": "stdout",
     "output_type": "stream",
     "text": [
      "{'year': 2023, 'quarter': 4, 'month_number': 10, 'month_name': 'October', 'week_number': 43, 'day_of_week_number': 4, 'day_of_week_name': 'Thursday'}\n"
     ]
    }
   ],
   "source": [
    "test_output = extract_date_components(\"2023-10-26 14:30:00\")\n",
    "print(test_output)\n"
   ]
  },
  {
   "cell_type": "code",
   "execution_count": 27,
   "id": "27fd3874",
   "metadata": {},
   "outputs": [
    {
     "name": "stdout",
     "output_type": "stream",
     "text": [
      "{'year': 2025, 'quarter': 2, 'month_number': 5, 'month_name': 'May', 'week_number': 22, 'day_of_week_number': 1, 'day_of_week_name': 'Monday'}\n"
     ]
    }
   ],
   "source": [
    "from datetime import datetime\n",
    "\n",
    "test_dt = datetime(2025, 5, 26, 20, 15, 0)\n",
    "print(extract_date_components(test_dt))\n"
   ]
  },
  {
   "cell_type": "code",
   "execution_count": 28,
   "id": "df2c66a1",
   "metadata": {},
   "outputs": [
    {
     "name": "stdout",
     "output_type": "stream",
     "text": [
      "Caught expected ValueError: Timestamp string must match 'YYYY-MM-DD HH:MM:SS'\n",
      "Caught expected TypeError: timestamp_input must be a datetime object or a timestamp string\n"
     ]
    }
   ],
   "source": [
    "# Expecting a ValueError due to bad format\n",
    "try:\n",
    "    extract_date_components(\"2023/10/26\")\n",
    "except ValueError as e:\n",
    "    print(\"Caught expected ValueError:\", e)\n",
    "\n",
    "# Expecting a TypeError due to wrong input type\n",
    "try:\n",
    "    extract_date_components(12345)\n",
    "except TypeError as e:\n",
    "    print(\"Caught expected TypeError:\", e)\n"
   ]
  },
  {
   "cell_type": "code",
   "execution_count": 29,
   "id": "dfef65a5",
   "metadata": {},
   "outputs": [
    {
     "data": {
      "text/html": [
       "<div>\n",
       "<style scoped>\n",
       "    .dataframe tbody tr th:only-of-type {\n",
       "        vertical-align: middle;\n",
       "    }\n",
       "\n",
       "    .dataframe tbody tr th {\n",
       "        vertical-align: top;\n",
       "    }\n",
       "\n",
       "    .dataframe thead th {\n",
       "        text-align: right;\n",
       "    }\n",
       "</style>\n",
       "<table border=\"1\" class=\"dataframe\">\n",
       "  <thead>\n",
       "    <tr style=\"text-align: right;\">\n",
       "      <th></th>\n",
       "      <th>timestamp</th>\n",
       "      <th>open</th>\n",
       "      <th>high</th>\n",
       "      <th>low</th>\n",
       "      <th>close</th>\n",
       "      <th>Daily Return</th>\n",
       "      <th>timestamp</th>\n",
       "    </tr>\n",
       "  </thead>\n",
       "  <tbody>\n",
       "    <tr>\n",
       "      <th>0</th>\n",
       "      <td>2018-02-09 00:00:00+00:00</td>\n",
       "      <td>7611.61</td>\n",
       "      <td>7611.61</td>\n",
       "      <td>7611.61</td>\n",
       "      <td>7611.61</td>\n",
       "      <td>NaN</td>\n",
       "      <td>{'year': 2018, 'quarter': 1, 'month_number': 2...</td>\n",
       "    </tr>\n",
       "    <tr>\n",
       "      <th>1</th>\n",
       "      <td>2018-02-10 00:00:00+00:00</td>\n",
       "      <td>8208.57</td>\n",
       "      <td>8674.76</td>\n",
       "      <td>7847.14</td>\n",
       "      <td>8672.57</td>\n",
       "      <td>0.139387</td>\n",
       "      <td>{'year': 2018, 'quarter': 1, 'month_number': 2...</td>\n",
       "    </tr>\n",
       "    <tr>\n",
       "      <th>2</th>\n",
       "      <td>2018-02-11 00:00:00+00:00</td>\n",
       "      <td>8659.92</td>\n",
       "      <td>9088.97</td>\n",
       "      <td>8283.43</td>\n",
       "      <td>8590.21</td>\n",
       "      <td>-0.009497</td>\n",
       "      <td>{'year': 2018, 'quarter': 1, 'month_number': 2...</td>\n",
       "    </tr>\n",
       "    <tr>\n",
       "      <th>3</th>\n",
       "      <td>2018-02-12 00:00:00+00:00</td>\n",
       "      <td>8583.38</td>\n",
       "      <td>8583.38</td>\n",
       "      <td>7890.82</td>\n",
       "      <td>8064.69</td>\n",
       "      <td>-0.061177</td>\n",
       "      <td>{'year': 2018, 'quarter': 1, 'month_number': 2...</td>\n",
       "    </tr>\n",
       "    <tr>\n",
       "      <th>4</th>\n",
       "      <td>2018-02-13 00:00:00+00:00</td>\n",
       "      <td>8105.98</td>\n",
       "      <td>8920.31</td>\n",
       "      <td>8105.98</td>\n",
       "      <td>8845.22</td>\n",
       "      <td>0.096784</td>\n",
       "      <td>{'year': 2018, 'quarter': 1, 'month_number': 2...</td>\n",
       "    </tr>\n",
       "  </tbody>\n",
       "</table>\n",
       "</div>"
      ],
      "text/plain": [
       "                  timestamp     open     high      low    close  Daily Return  \\\n",
       "0 2018-02-09 00:00:00+00:00  7611.61  7611.61  7611.61  7611.61           NaN   \n",
       "1 2018-02-10 00:00:00+00:00  8208.57  8674.76  7847.14  8672.57      0.139387   \n",
       "2 2018-02-11 00:00:00+00:00  8659.92  9088.97  8283.43  8590.21     -0.009497   \n",
       "3 2018-02-12 00:00:00+00:00  8583.38  8583.38  7890.82  8064.69     -0.061177   \n",
       "4 2018-02-13 00:00:00+00:00  8105.98  8920.31  8105.98  8845.22      0.096784   \n",
       "\n",
       "                                           timestamp  \n",
       "0  {'year': 2018, 'quarter': 1, 'month_number': 2...  \n",
       "1  {'year': 2018, 'quarter': 1, 'month_number': 2...  \n",
       "2  {'year': 2018, 'quarter': 1, 'month_number': 2...  \n",
       "3  {'year': 2018, 'quarter': 1, 'month_number': 2...  \n",
       "4  {'year': 2018, 'quarter': 1, 'month_number': 2...  "
      ]
     },
     "execution_count": 29,
     "metadata": {},
     "output_type": "execute_result"
    }
   ],
   "source": [
    "# Apply to a DataFrame and explode the dict into columns\n",
    "df_features = df['timestamp'].apply(extract_date_components)\n",
    "\n",
    "# Merge with the original DataFrame\n",
    "df = pd.concat([df, df_features], axis=1)\n",
    "\n",
    "# Preview the results\n",
    "df.head()\n"
   ]
  },
  {
   "cell_type": "markdown",
   "id": "d45b1de5",
   "metadata": {},
   "source": [
    "------------------------------------------------------------------------------------------------------------------------------------------------------------\n",
    "                                                                Volatility metrics"
   ]
  },
  {
   "cell_type": "code",
   "execution_count": 33,
   "id": "c664e611",
   "metadata": {},
   "outputs": [],
   "source": [
    "def calculate_daily_returns(df) -> pd.Series:\n",
    "    \"\"\"\n",
    "        Calculate the daily returns from a DataFrame with a 'Close' column.\n",
    "\n",
    "        Parameters:\n",
    "            df (pd.DataFrame): DataFrame containing historical price data with a 'Close' column.\n",
    "\n",
    "        Returns:\n",
    "            pd.Series: A Series of daily return values (as decimal percentages).\n",
    "    \"\"\"\n",
    "\n",
    "    daily_returns = df['close'].pct_change()\n",
    "    # .pct_change() is a built in pandas method \n",
    "    # ( calculates the percentage change between the current and the prev element)\n",
    "    return daily_returns\n",
    "\n",
    "df['timestamp'] = pd.to_datetime(df['timestamp'])\n",
    "\n",
    "df['Daily Return'] = calculate_daily_returns(df)"
   ]
  },
  {
   "cell_type": "code",
   "execution_count": 34,
   "id": "70804e42",
   "metadata": {},
   "outputs": [],
   "source": [
    "def get_return_std_dev(return_series):\n",
    "    \"\"\"\n",
    "    Calculates the standard deviation of returns from a Series of daily returns.    \n",
    "\n",
    "    Parameters:\n",
    "        return_series (pd.Series): Series containing daily returns.\n",
    "\n",
    "    Returns:\n",
    "        float: The standard deviation of returns, rounded to 4 decimal places.\n",
    "\n",
    "    Example usage:\n",
    "        std_dev = get_return_std_dev(daily_returns)\n",
    "    \"\"\"\n",
    "    return round(return_series.std(), 4)"
   ]
  },
  {
   "cell_type": "code",
   "execution_count": 37,
   "id": "3122e4bb",
   "metadata": {},
   "outputs": [],
   "source": [
    "def get_rolling_volatility(return_series, window):\n",
    "    \"\"\"\n",
    "    Calculates the rolling standard deviation of returns over a specified window.\n",
    "\n",
    "    Parameters:\n",
    "        return_series (pd.Series): Series containing daily returns.\n",
    "        window (int): The number of days to calculate the rolling standard deviation over.\n",
    "    \n",
    "    Returns:\n",
    "        pd.Series: A Series containing the rolling standard deviation of returns.\n",
    "\n",
    "    Example usage:\n",
    "        rolling_volatility = get_rolling_volatility(daily_returns, 20)\n",
    "    \"\"\"\n",
    "    return return_series.rolling(window).std()  \n"
   ]
  },
  {
   "cell_type": "code",
   "execution_count": 21,
   "id": "b33fdf85",
   "metadata": {},
   "outputs": [],
   "source": [
    "return_series = calculate_daily_returns(df)"
   ]
  },
  {
   "cell_type": "code",
   "execution_count": null,
   "id": "4d71643d",
   "metadata": {},
   "outputs": [
    {
     "name": "stdout",
     "output_type": "stream",
     "text": [
      "rolling volatility:  0            NaN\n",
      "1            NaN\n",
      "2            NaN\n",
      "3            NaN\n",
      "4            NaN\n",
      "          ...   \n",
      "2647    0.022218\n",
      "2648    0.022318\n",
      "2649    0.023076\n",
      "2650    0.022436\n",
      "2651    0.021309\n",
      "Name: close, Length: 2652, dtype: float64\n"
     ]
    }
   ],
   "source": [
    "print(\"STD: \", get_return_std_dev(return_series))"
   ]
  },
  {
   "cell_type": "markdown",
   "id": "a755835f",
   "metadata": {},
   "source": [
    "Your standard deviation of 0.0339 (or 3.39%) for Bitcoin's daily returns is a measure of volatility. Here's what this means:\n",
    "\n",
    "1. Daily Price Movement Context\n",
    "On any given day, Bitcoin's price typically moves by about 3.39% from the previous day's closing price\n",
    "This represents HIGH volatility compared to traditional assets\n",
    "For reference: The S&P 500 typically has daily volatility of around 1.2%\n",
    "\n",
    "2. Statistical Interpretation (68-95-99.7 Rule)\n",
    "Assuming a normal distribution:\n",
    "68% of daily returns fall within ±3.39% of the mean daily return\n",
    "95% of daily returns fall within ±6.78% (2 × 3.39%) of the mean\n",
    "99.7% of daily returns fall within ±10.17% (3 × 3.39%) of the mean\n",
    "\n",
    "3. Annualized Volatility\n",
    "Your daily volatility of 3.39% translates to approximately 53.8% annualized volatility (3.39% × √252)\n",
    "This means Bitcoin's price can swing dramatically over a year\n",
    "\n",
    "4. Risk Assessment\n",
    "3.39% daily volatility is HIGH for any financial asset\n",
    "This volatility reflects Bitcoin's speculative nature and market immaturity\n",
    "It indicates significant price uncertainty and potential for large gains or losses\n",
    "\n",
    "5. Practical Implications\n",
    "A \"normal\" day sees Bitcoin move ±3.39%\n",
    "An \"unusual\" day (2 standard deviations) sees moves of ±6.78%\n",
    "An \"extreme\" day (3 standard deviations) sees moves of ±10.17%\n",
    "\n",
    "6. Market Context\n",
    "This level of volatility is characteristic of:\n",
    "Cryptocurrency markets (highly speculative)\n",
    "Emerging markets or new asset classes\n",
    "Assets with limited liquidity or regulatory uncertainty"
   ]
  },
  {
   "cell_type": "code",
   "execution_count": null,
   "id": "78799541",
   "metadata": {},
   "outputs": [],
   "source": [
    "print(\"rolling volatility: \", get_rolling_volatility(return_series, window = 10))"
   ]
  },
  {
   "cell_type": "markdown",
   "id": "d81ea7c7",
   "metadata": {},
   "source": [
    "10-Day Window Interpretation\n",
    "Time Horizon Context:\n",
    "Short-term volatility measure - captures recent market behavior\n",
    "Trading week perspective - roughly 2 weeks of trading activity\n",
    "Responsive to market changes - quickly reflects shifts in market sentiment\n",
    "What It Tells You:\n",
    "Recent Market Stability:\n",
    "Low rolling volatility = recent price movements have been relatively stable\n",
    "High rolling volatility = recent price movements have been erratic and unpredictable\n",
    "Volatility Regime Changes:\n",
    "Volatility clustering - periods of high volatility tend to cluster together\n",
    "Regime shifts - sudden changes in rolling volatility indicate market structure changes\n",
    "Calm before storm - very low rolling volatility often precedes large moves\n",
    "Trading Implications:\n",
    "Position sizing - higher rolling volatility suggests smaller position sizes\n",
    "Stop losses - wider stops needed during high volatility periods\n",
    "Entry timing - volatility often mean-reverts, so extreme highs/low may signal reversals\n",
    "Interpreting the Numbers\n",
    "Typical Bitcoin 10-Day Rolling Volatility:\n",
    "Low volatility: 1-2% daily (10-20% annualized)\n",
    "Normal volatility: 2-4% daily (20-40% annualized)\n",
    "High volatility: 4-6% daily (40-60% annualized)\n",
    "Extreme volatility: 6%+ daily (60%+ annualized)\n",
    "Pattern Recognition:\n",
    "Rising rolling volatility = increasing market uncertainty/risk\n",
    "Falling rolling volatility = decreasing market uncertainty, potential complacency\n",
    "Spikes in rolling volatility = market stress events, news shocks, or technical breakdowns"
   ]
  },
  {
   "cell_type": "markdown",
   "id": "216bd4f8",
   "metadata": {},
   "source": [
    "<font color=\"blue\"> HI </font>"
   ]
  },
  {
   "cell_type": "code",
   "execution_count": 21,
   "id": "4d68165b",
   "metadata": {},
   "outputs": [],
   "source": [
    "def calculate_atr(df: pd.DataFrame, window) -> pd.Series:\n",
    "    \"\"\"\n",
    "    Calculate the Average True Range (ATR) indicator.\n",
    "    \n",
    "    ATR measures volatility by calculating the average of the True Range over a specified period.\n",
    "    True Range is the greatest of:\n",
    "    - Current High - Current Low\n",
    "    - |Current High - Previous Close|\n",
    "    - |Current Low - Previous Close|\n",
    "    \n",
    "    Parameters:\n",
    "        df (pd.DataFrame): DataFrame containing 'high', 'low', and 'close' columns\n",
    "        window (int): Period for calculating the moving average (default: 14)\n",
    "    \n",
    "    Returns:\n",
    "        pd.Series: The Average True Range values\n",
    "    \n",
    "    Example:\n",
    "        atr = calculate_atr(df, window=14)\n",
    "    \"\"\"\n",
    "    # Extract the required price columns\n",
    "    high = df['high']\n",
    "    low = df['low']\n",
    "    close = df['close']\n",
    "    \n",
    "    # Calculate the three components of True Range\n",
    "    # 1. Current High - Current Low\n",
    "    high_low = high - low\n",
    "    \n",
    "    # 2. Absolute value of (Current High - Previous Close)\n",
    "    high_prev_close = np.abs(high - close.shift(1))\n",
    "    \n",
    "    # 3. Absolute value of (Current Low - Previous Close)\n",
    "    low_prev_close = np.abs(low - close.shift(1))\n",
    "    \n",
    "    # True Range is the maximum of the three values\n",
    "    true_range = pd.concat([high_low, high_prev_close, low_prev_close], axis=1).max(axis=1)\n",
    "    \n",
    "    # Calculate ATR using Simple Moving Average\n",
    "    # Note: Traditional ATR uses Wilder's smoothing (EMA), but SMA is also common\n",
    "    atr_sma = true_range.rolling(window=window).mean()\n",
    "    \n",
    "    return atr_sma"
   ]
  },
  {
   "cell_type": "code",
   "execution_count": 15,
   "id": "3832dece",
   "metadata": {},
   "outputs": [],
   "source": [
    "high = df['high']\n",
    "low = df['low']\n",
    "close = df['close']\n",
    "high_low = high - low\n",
    "    \n",
    "    # 2. Absolute value of (Current High - Previous Close)\n",
    "high_prev_close = np.abs(high - close.shift(1))\n",
    "    \n",
    "    # 3. Absolute value of (Current Low - Previous Close)\n",
    "low_prev_close = np.abs(low - close.shift(1))\n",
    "true_range = pd.concat([high_low, high_prev_close, low_prev_close], axis=1).max(axis=1)"
   ]
  },
  {
   "cell_type": "code",
   "execution_count": 17,
   "id": "31611685",
   "metadata": {},
   "outputs": [
    {
     "name": "stdout",
     "output_type": "stream",
     "text": [
      "0          0.00\n",
      "1        827.62\n",
      "2        805.54\n",
      "3        692.56\n",
      "4        814.33\n",
      "         ...   \n",
      "2647    1875.00\n",
      "2648    1361.00\n",
      "2649    4394.00\n",
      "2650    3138.00\n",
      "2651    1192.00\n",
      "Length: 2652, dtype: float64\n"
     ]
    }
   ],
   "source": []
  },
  {
   "cell_type": "code",
   "execution_count": 22,
   "id": "22072780",
   "metadata": {},
   "outputs": [
    {
     "name": "stdout",
     "output_type": "stream",
     "text": [
      "ATR:  0          NaN\n",
      "1          NaN\n",
      "2          NaN\n",
      "3          NaN\n",
      "4          NaN\n",
      "         ...  \n",
      "2647    2363.8\n",
      "2648    2184.3\n",
      "2649    2482.9\n",
      "2650    2695.7\n",
      "2651    2618.6\n",
      "Length: 2652, dtype: float64\n"
     ]
    }
   ],
   "source": [
    "print(\"ATR: \", calculate_atr(df, window = 10))"
   ]
  },
  {
   "cell_type": "code",
   "execution_count": 17,
   "id": "744e8f8c",
   "metadata": {},
   "outputs": [],
   "source": [
    "def calculate_volatility_ratio(df: pd.DataFrame, recent_window: int, long_window: int) -> pd.Series:\n",
    "    \"\"\"\n",
    "    Calculate the volatility ratio of a DataFrame.\n",
    "    \n",
    "    The volatility ratio is calculated as the ratio of the standard deviation of the recent returns to the standard deviation of the long-term returns.\n",
    "    \n",
    "    Parameters:\n",
    "        df (pd.DataFrame): DataFrame containing 'close' column\n",
    "        recent_window (int): Window for recent returns\n",
    "        long_window (int): Window for long-term returns\n",
    "    \n",
    "    Returns:            \n",
    "        pd.Series: The volatility ratio values\n",
    "    \n",
    "    Example:\n",
    "        volatility_ratio = calculate_volatility_ratio(df, recent_window=20, long_window=50)\n",
    "    \"\"\"\n",
    "    # Calculate recent returns  \n",
    "    recent_atr = get_rolling_volatility(df, recent_window)\n",
    "    long_atr = get_rolling_volatility(df, long_window)\n",
    "\n",
    "    # Calculate volatility ratio\n",
    "    volatility_ratio = recent_atr / long_atr\n",
    "\n",
    "    return volatility_ratio"
   ]
  },
  {
   "cell_type": "code",
   "execution_count": 18,
   "id": "9a82ecd1",
   "metadata": {},
   "outputs": [
    {
     "name": "stdout",
     "output_type": "stream",
     "text": [
      "Volatility Ratio:  0            NaN\n",
      "1            NaN\n",
      "2            NaN\n",
      "3            NaN\n",
      "4            NaN\n",
      "          ...   \n",
      "2647    0.874396\n",
      "2648    0.837973\n",
      "2649    0.789703\n",
      "2650    0.805635\n",
      "2651    0.794770\n",
      "Length: 2652, dtype: float64\n"
     ]
    }
   ],
   "source": [
    "print(\"Volatility Ratio: \", calculate_volatility_ratio(df, recent_window=20, long_window=50))\n"
   ]
  },
  {
   "cell_type": "markdown",
   "id": "ceaf6ab3",
   "metadata": {},
   "source": [
    "Understanding the Return Value\n",
    "The ratio tells you:\n",
    "Ratio > 1.0 = Recent volatility is higher than long-term volatility\n",
    "Ratio = 1.0 = Recent volatility equals long-term volatility\n",
    "Ratio < 1.0 = Recent volatility is lower than long-term volatility\n",
    "Practical Interpretation\n",
    "High Volatility Ratio (> 1.0):\n",
    "Market stress - Recent price movements are more volatile than usual\n",
    "Increased uncertainty - Market participants are more anxious\n",
    "Potential opportunities - Higher volatility often creates trading opportunities\n",
    "Risk warning - May indicate market instability or trend changes\n",
    "Low Volatility Ratio (< 1.0):\n",
    "Market calm - Recent price movements are less volatile than usual\n",
    "Complacency - Market participants may be too comfortable\n",
    "Potential complacency trap - Low volatility often precedes large moves\n",
    "Range-bound markets - May indicate sideways consolidation"
   ]
  },
  {
   "cell_type": "code",
   "execution_count": 40,
   "id": "0c4372e3",
   "metadata": {},
   "outputs": [],
   "source": [
    "def calculate_bollinger_bands(df: pd.DataFrame, window: int, num_std_dev: int) -> pd.DataFrame:\n",
    "    \"\"\"\n",
    "    Calculate Bollinger Bands for a DataFrame.\n",
    "    \n",
    "    Bollinger Bands are a technical analysis tool that consists of three lines:\n",
    "    - Middle Band: Moving average of the closing prices\n",
    "    - Upper Band: Middle Band + (num_std_dev * standard deviation of the closing prices)\n",
    "    - Lower Band: Middle Band - (num_std_dev * standard deviation of the closing prices)\n",
    "\n",
    "    Parameters:\n",
    "        df (pd.DataFrame): DataFrame containing 'close' column\n",
    "        window (int): Window for the moving average\n",
    "        num_std_dev (int): Number of standard deviations to include in the bands\n",
    "\n",
    "    Returns:\n",
    "        pd.DataFrame: DataFrame containing the Bollinger Bands\n",
    "\n",
    "    Example:\n",
    "        bollinger_bands = calculate_bollinger_bands(df, window=20, num_std_dev=2)  \n",
    "\n",
    "    \"\"\"\n",
    "\n",
    "    closing_prices = df['close']\n",
    "\n",
    "    middle_band = closing_prices.rolling(window=window).mean()\n",
    "\n",
    "    rolling_std = closing_prices.rolling(window=window).std()\n",
    "\n",
    "    upper_band = middle_band + (num_std_dev * rolling_std)\n",
    "\n",
    "    lower_band = middle_band - (num_std_dev * rolling_std)\n",
    "\n",
    "    bollinger_bands = pd.DataFrame({\n",
    "        'middle_band': middle_band,\n",
    "        'upper_band': upper_band,\n",
    "        'lower_band': lower_band\n",
    "    })\n",
    "\n",
    "    return bollinger_bands"
   ]
  },
  {
   "cell_type": "code",
   "execution_count": 41,
   "id": "bf3a257f",
   "metadata": {},
   "outputs": [],
   "source": [
    "def calculate_bollinger_bands_width(df: pd.DataFrame, window: int, num_std_dev: int) -> pd.Series:\n",
    "    \"\"\"\n",
    "    Calculate the width of Bollinger Bands.\n",
    "    \n",
    "    The width is calculated as the difference between the upper and lower bands divided by the middle band.\n",
    "\n",
    "    Parameters:\n",
    "        df (pd.DataFrame): DataFrame containing 'close' column\n",
    "        window (int): Window for the moving average\n",
    "        num_std_dev (int): Number of standard deviations to include in the bands\n",
    "\n",
    "    Returns:\n",
    "        pd.Series: The width of the Bollinger Bands                                                                 \n",
    "\n",
    "    Example:\n",
    "        bollinger_bands_width = calculate_bollinger_bands_width(df, window=20, num_std_dev=2)\n",
    "    \"\"\"\n",
    "    bollinger_bands = calculate_bollinger_bands(df, window, num_std_dev)\n",
    "\n",
    "    return (bollinger_bands['upper_band'] - bollinger_bands['lower_band']) / bollinger_bands['middle_band']"
   ]
  },
  {
   "cell_type": "code",
   "execution_count": 46,
   "id": "e3afed1d",
   "metadata": {},
   "outputs": [
    {
     "name": "stdout",
     "output_type": "stream",
     "text": [
      "Bollinger Bands Width:  0            NaN\n",
      "1            NaN\n",
      "2       0.142365\n",
      "3       0.078120\n",
      "4       0.093647\n",
      "          ...   \n",
      "2647    0.018002\n",
      "2648    0.016208\n",
      "2649    0.017102\n",
      "2650    0.013621\n",
      "2651    0.012642\n",
      "Length: 2652, dtype: float64\n"
     ]
    }
   ],
   "source": [
    "print(\"Bollinger Bands Width: \", calculate_bollinger_bands_width(df, window=3, num_std_dev=1))\n"
   ]
  },
  {
   "cell_type": "code",
   "execution_count": 20,
   "id": "54cec009",
   "metadata": {},
   "outputs": [
    {
     "name": "stdout",
     "output_type": "stream",
     "text": [
      "Bollinger Bands:        middle_band    upper_band    lower_band\n",
      "0             NaN           NaN           NaN\n",
      "1             NaN           NaN           NaN\n",
      "2             NaN           NaN           NaN\n",
      "3             NaN           NaN           NaN\n",
      "4             NaN           NaN           NaN\n",
      "...           ...           ...           ...\n",
      "2647     95904.90  1.506176e+07 -1.486995e+07\n",
      "2648     96732.00  1.402575e+07 -1.383229e+07\n",
      "2649     97197.05  1.526176e+07 -1.506737e+07\n",
      "2650     97726.00  1.685802e+07 -1.666257e+07\n",
      "2651     98212.05  1.764076e+07 -1.744434e+07\n",
      "\n",
      "[2652 rows x 3 columns]\n"
     ]
    }
   ],
   "source": [
    "print(\"Bollinger Bands: \", calculate_bollinger_bands(df, window=20, std_dev=2))\n"
   ]
  }
 ],
 "metadata": {
  "kernelspec": {
   "display_name": "venv",
   "language": "python",
   "name": "python3"
  },
  "language_info": {
   "codemirror_mode": {
    "name": "ipython",
    "version": 3
   },
   "file_extension": ".py",
   "mimetype": "text/x-python",
   "name": "python",
   "nbconvert_exporter": "python",
   "pygments_lexer": "ipython3",
   "version": "3.11.5"
  }
 },
 "nbformat": 4,
 "nbformat_minor": 5
}
