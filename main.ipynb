{
 "cells": [
  {
   "cell_type": "markdown",
   "id": "cfd967e6",
   "metadata": {},
   "source": [
    "# Testing Jupyter "
   ]
  },
  {
   "cell_type": "code",
   "execution_count": 9,
   "id": "6c7435b1",
   "metadata": {},
   "outputs": [],
   "source": [
    "import pandas as pd\n",
    "import numpy as np\n",
    "from datetime import datetime\n",
    "\n",
    "df = pd.read_csv(\"top5_daily_ohlcv_since_2018-02-09.csv\")\n",
    "\n",
    "# print(df.head())\n",
    "\n",
    "def calculate_daily_returns(df) -> pd.Series:\n",
    "    \"\"\"\n",
    "        Calculate the daily returns from a DataFrame with a 'Close' column.\n",
    "\n",
    "        Parameters:\n",
    "            df (pd.DataFrame): DataFrame containing historical price data with a 'Close' column.\n",
    "\n",
    "        Returns:\n",
    "            pd.Series: A Series of daily return values (as decimal percentages).\n",
    "    \"\"\"\n",
    "\n",
    "    daily_returns = df['close'].pct_change()\n",
    "    # .pct_change() is a built in pandas method \n",
    "    # ( calculates the percentage change between the current and the prev element)\n",
    "    return daily_returns\n",
    "\n",
    "df['timestamp'] = pd.to_datetime(df['timestamp'])\n",
    "\n",
    "df['Daily Return'] = calculate_daily_returns(df)"
   ]
  },
  {
   "cell_type": "markdown",
   "id": "ab80f0b9",
   "metadata": {},
   "source": []
  },
  {
   "cell_type": "code",
   "execution_count": 10,
   "id": "6ddce7d6",
   "metadata": {},
   "outputs": [],
   "source": [
    "def extract_date_components(timestamp_input) -> dict:\n",
    "    \"\"\"\n",
    "    Transform a timestamp (string in “YYYY-MM-DD HH:MM:SS” format *or* a\n",
    "    datetime.datetime object) into a dictionary of calendar-based features.\n",
    "\n",
    "    Parameters\n",
    "    ----------\n",
    "    timestamp_input : str | datetime.datetime\n",
    "        Either the timestamp string (e.g. \"2023-10-26 14:30:00\")\n",
    "        or an already-parsed datetime object.\n",
    "\n",
    "    Returns\n",
    "    -------\n",
    "    dict\n",
    "        {\n",
    "            \"year\":               2023,\n",
    "            \"quarter\":            4,\n",
    "            \"month_number\":       10,\n",
    "            \"month_name\":         \"October\",\n",
    "            \"week_of_year\":       43,      # ISO-8601 week number\n",
    "            \"day_of_week_number\": 4,       # Monday=1 … Sunday=7  (ISO)\n",
    "            \"day_of_week_name\":   \"Thursday\"\n",
    "        }\n",
    "    \"\"\"\n",
    "\n",
    "# Checks if timestamp input is of instance/type datetime\n",
    "    if isinstance(timestamp_input, datetime):\n",
    "        dt = timestamp_input\n",
    "    elif isinstance(timestamp_input, str):\n",
    "        try:   \n",
    "            dt = datetime.strptime(timestamp_input, \"%Y-%m-%d %H:%M:%S\")\n",
    "        except ValueError as exc:          \n",
    "            raise ValueError(\n",
    "                \"Timestamp string must match 'YYYY-MM-DD HH:MM:SS'\"\n",
    "            ) from exc\n",
    "    else:\n",
    "        raise TypeError(\n",
    "            \"timestamp_input must be a datetime object or a timestamp string\"\n",
    "        )\n",
    "\n",
    "\n",
    "    features = {\n",
    "         \"year\":               dt.year,\n",
    "        \"quarter\":            (dt.month - 1) // 3 + 1,          # 1–4\n",
    "        \"month_number\":       dt.month,                         # 1–12\n",
    "        \"month_name\":         dt.strftime(\"%B\"),                # \"January\"\n",
    "        \"week_number\":         dt.isocalendar().week,         # \"January\"\n",
    "        \"day_of_week_number\": dt.weekday() + 1,                    # 1=Mon … 7=Sun\n",
    "        \"day_of_week_name\":   dt.strftime(\"%A\"),                # \"Monday\"…\n",
    "    }\n",
    "\n",
    "    return features"
   ]
  },
  {
   "cell_type": "code",
   "execution_count": 11,
   "id": "a55318a8",
   "metadata": {},
   "outputs": [
    {
     "name": "stdout",
     "output_type": "stream",
     "text": [
      "{'year': 2023, 'quarter': 4, 'month_number': 10, 'month_name': 'October', 'week_number': 43, 'day_of_week_number': 4, 'day_of_week_name': 'Thursday'}\n"
     ]
    }
   ],
   "source": [
    "test_output = extract_date_components(\"2023-10-26 14:30:00\")\n",
    "print(test_output)\n"
   ]
  },
  {
   "cell_type": "code",
   "execution_count": 12,
   "id": "27fd3874",
   "metadata": {},
   "outputs": [
    {
     "name": "stdout",
     "output_type": "stream",
     "text": [
      "{'year': 2025, 'quarter': 2, 'month_number': 5, 'month_name': 'May', 'week_number': 22, 'day_of_week_number': 1, 'day_of_week_name': 'Monday'}\n"
     ]
    }
   ],
   "source": [
    "from datetime import datetime\n",
    "\n",
    "test_dt = datetime(2025, 5, 26, 20, 15, 0)\n",
    "print(extract_date_components(test_dt))\n"
   ]
  },
  {
   "cell_type": "code",
   "execution_count": 13,
   "id": "df2c66a1",
   "metadata": {},
   "outputs": [
    {
     "name": "stdout",
     "output_type": "stream",
     "text": [
      "Caught expected ValueError: Timestamp string must match 'YYYY-MM-DD HH:MM:SS'\n",
      "Caught expected TypeError: timestamp_input must be a datetime object or a timestamp string\n"
     ]
    }
   ],
   "source": [
    "# Expecting a ValueError due to bad format\n",
    "try:\n",
    "    extract_date_components(\"2023/10/26\")\n",
    "except ValueError as e:\n",
    "    print(\"Caught expected ValueError:\", e)\n",
    "\n",
    "# Expecting a TypeError due to wrong input type\n",
    "try:\n",
    "    extract_date_components(12345)\n",
    "except TypeError as e:\n",
    "    print(\"Caught expected TypeError:\", e)\n"
   ]
  },
  {
   "cell_type": "code",
   "execution_count": 14,
   "id": "dfef65a5",
   "metadata": {},
   "outputs": [
    {
     "data": {
      "text/html": [
       "<div>\n",
       "<style scoped>\n",
       "    .dataframe tbody tr th:only-of-type {\n",
       "        vertical-align: middle;\n",
       "    }\n",
       "\n",
       "    .dataframe tbody tr th {\n",
       "        vertical-align: top;\n",
       "    }\n",
       "\n",
       "    .dataframe thead th {\n",
       "        text-align: right;\n",
       "    }\n",
       "</style>\n",
       "<table border=\"1\" class=\"dataframe\">\n",
       "  <thead>\n",
       "    <tr style=\"text-align: right;\">\n",
       "      <th></th>\n",
       "      <th>timestamp</th>\n",
       "      <th>open</th>\n",
       "      <th>high</th>\n",
       "      <th>low</th>\n",
       "      <th>close</th>\n",
       "      <th>volume</th>\n",
       "      <th>coin_id</th>\n",
       "      <th>Daily Return</th>\n",
       "      <th>timestamp</th>\n",
       "    </tr>\n",
       "  </thead>\n",
       "  <tbody>\n",
       "    <tr>\n",
       "      <th>0</th>\n",
       "      <td>2018-02-09 00:00:00+00:00</td>\n",
       "      <td>7611.61</td>\n",
       "      <td>7611.61</td>\n",
       "      <td>7611.61</td>\n",
       "      <td>7611.61</td>\n",
       "      <td>3.190754e+09</td>\n",
       "      <td>bitcoin</td>\n",
       "      <td>NaN</td>\n",
       "      <td>{'year': 2018, 'quarter': 1, 'month_number': 2...</td>\n",
       "    </tr>\n",
       "    <tr>\n",
       "      <th>1</th>\n",
       "      <td>2018-02-10 00:00:00+00:00</td>\n",
       "      <td>8208.57</td>\n",
       "      <td>8674.76</td>\n",
       "      <td>7847.14</td>\n",
       "      <td>8672.57</td>\n",
       "      <td>2.960040e+09</td>\n",
       "      <td>bitcoin</td>\n",
       "      <td>0.139387</td>\n",
       "      <td>{'year': 2018, 'quarter': 1, 'month_number': 2...</td>\n",
       "    </tr>\n",
       "    <tr>\n",
       "      <th>2</th>\n",
       "      <td>2018-02-11 00:00:00+00:00</td>\n",
       "      <td>8659.92</td>\n",
       "      <td>9088.97</td>\n",
       "      <td>8283.43</td>\n",
       "      <td>8590.21</td>\n",
       "      <td>3.371678e+09</td>\n",
       "      <td>bitcoin</td>\n",
       "      <td>-0.009497</td>\n",
       "      <td>{'year': 2018, 'quarter': 1, 'month_number': 2...</td>\n",
       "    </tr>\n",
       "    <tr>\n",
       "      <th>3</th>\n",
       "      <td>2018-02-12 00:00:00+00:00</td>\n",
       "      <td>8583.38</td>\n",
       "      <td>8583.38</td>\n",
       "      <td>7890.82</td>\n",
       "      <td>8064.69</td>\n",
       "      <td>2.806997e+09</td>\n",
       "      <td>bitcoin</td>\n",
       "      <td>-0.061177</td>\n",
       "      <td>{'year': 2018, 'quarter': 1, 'month_number': 2...</td>\n",
       "    </tr>\n",
       "    <tr>\n",
       "      <th>4</th>\n",
       "      <td>2018-02-13 00:00:00+00:00</td>\n",
       "      <td>8105.98</td>\n",
       "      <td>8920.31</td>\n",
       "      <td>8105.98</td>\n",
       "      <td>8845.22</td>\n",
       "      <td>3.069220e+09</td>\n",
       "      <td>bitcoin</td>\n",
       "      <td>0.096784</td>\n",
       "      <td>{'year': 2018, 'quarter': 1, 'month_number': 2...</td>\n",
       "    </tr>\n",
       "  </tbody>\n",
       "</table>\n",
       "</div>"
      ],
      "text/plain": [
       "                  timestamp     open     high      low    close        volume  \\\n",
       "0 2018-02-09 00:00:00+00:00  7611.61  7611.61  7611.61  7611.61  3.190754e+09   \n",
       "1 2018-02-10 00:00:00+00:00  8208.57  8674.76  7847.14  8672.57  2.960040e+09   \n",
       "2 2018-02-11 00:00:00+00:00  8659.92  9088.97  8283.43  8590.21  3.371678e+09   \n",
       "3 2018-02-12 00:00:00+00:00  8583.38  8583.38  7890.82  8064.69  2.806997e+09   \n",
       "4 2018-02-13 00:00:00+00:00  8105.98  8920.31  8105.98  8845.22  3.069220e+09   \n",
       "\n",
       "   coin_id  Daily Return                                          timestamp  \n",
       "0  bitcoin           NaN  {'year': 2018, 'quarter': 1, 'month_number': 2...  \n",
       "1  bitcoin      0.139387  {'year': 2018, 'quarter': 1, 'month_number': 2...  \n",
       "2  bitcoin     -0.009497  {'year': 2018, 'quarter': 1, 'month_number': 2...  \n",
       "3  bitcoin     -0.061177  {'year': 2018, 'quarter': 1, 'month_number': 2...  \n",
       "4  bitcoin      0.096784  {'year': 2018, 'quarter': 1, 'month_number': 2...  "
      ]
     },
     "execution_count": 14,
     "metadata": {},
     "output_type": "execute_result"
    }
   ],
   "source": [
    "# Apply to a DataFrame and explode the dict into columns\n",
    "df_features = df['timestamp'].apply(extract_date_components)\n",
    "\n",
    "# Merge with the original DataFrame\n",
    "df = pd.concat([df, df_features], axis=1)\n",
    "\n",
    "# Preview the results\n",
    "df.head()\n"
   ]
  },
  {
   "cell_type": "markdown",
   "id": "d45b1de5",
   "metadata": {},
   "source": [
    "## Volatility metrics"
   ]
  },
  {
   "cell_type": "code",
   "execution_count": 15,
   "id": "c664e611",
   "metadata": {},
   "outputs": [
    {
     "ename": "ValueError",
     "evalue": "cannot assemble with duplicate keys",
     "output_type": "error",
     "traceback": [
      "\u001b[31m---------------------------------------------------------------------------\u001b[39m",
      "\u001b[31mValueError\u001b[39m                                Traceback (most recent call last)",
      "\u001b[36mCell\u001b[39m\u001b[36m \u001b[39m\u001b[32mIn[15]\u001b[39m\u001b[32m, line 17\u001b[39m\n\u001b[32m     13\u001b[39m     \u001b[38;5;66;03m# .pct_change() is a built in pandas method \u001b[39;00m\n\u001b[32m     14\u001b[39m     \u001b[38;5;66;03m# ( calculates the percentage change between the current and the prev element)\u001b[39;00m\n\u001b[32m     15\u001b[39m     \u001b[38;5;28;01mreturn\u001b[39;00m daily_returns\n\u001b[32m---> \u001b[39m\u001b[32m17\u001b[39m df[\u001b[33m'\u001b[39m\u001b[33mtimestamp\u001b[39m\u001b[33m'\u001b[39m] = \u001b[43mpd\u001b[49m\u001b[43m.\u001b[49m\u001b[43mto_datetime\u001b[49m\u001b[43m(\u001b[49m\u001b[43mdf\u001b[49m\u001b[43m[\u001b[49m\u001b[33;43m'\u001b[39;49m\u001b[33;43mtimestamp\u001b[39;49m\u001b[33;43m'\u001b[39;49m\u001b[43m]\u001b[49m\u001b[43m)\u001b[49m\n\u001b[32m     19\u001b[39m df[\u001b[33m'\u001b[39m\u001b[33mDaily Return\u001b[39m\u001b[33m'\u001b[39m] = calculate_daily_returns(df)\n",
      "\u001b[36mFile \u001b[39m\u001b[32mc:\\Users\\adamg\\Desktop\\CoinQuant\\venv\\Lib\\site-packages\\pandas\\core\\tools\\datetimes.py:1070\u001b[39m, in \u001b[36mto_datetime\u001b[39m\u001b[34m(arg, errors, dayfirst, yearfirst, utc, format, exact, unit, infer_datetime_format, origin, cache)\u001b[39m\n\u001b[32m   1068\u001b[39m         result = arg._constructor(values, index=arg.index, name=arg.name)\n\u001b[32m   1069\u001b[39m \u001b[38;5;28;01melif\u001b[39;00m \u001b[38;5;28misinstance\u001b[39m(arg, (ABCDataFrame, abc.MutableMapping)):\n\u001b[32m-> \u001b[39m\u001b[32m1070\u001b[39m     result = \u001b[43m_assemble_from_unit_mappings\u001b[49m\u001b[43m(\u001b[49m\u001b[43marg\u001b[49m\u001b[43m,\u001b[49m\u001b[43m \u001b[49m\u001b[43merrors\u001b[49m\u001b[43m,\u001b[49m\u001b[43m \u001b[49m\u001b[43mutc\u001b[49m\u001b[43m)\u001b[49m\n\u001b[32m   1071\u001b[39m \u001b[38;5;28;01melif\u001b[39;00m \u001b[38;5;28misinstance\u001b[39m(arg, Index):\n\u001b[32m   1072\u001b[39m     cache_array = _maybe_cache(arg, \u001b[38;5;28mformat\u001b[39m, cache, convert_listlike)\n",
      "\u001b[36mFile \u001b[39m\u001b[32mc:\\Users\\adamg\\Desktop\\CoinQuant\\venv\\Lib\\site-packages\\pandas\\core\\tools\\datetimes.py:1165\u001b[39m, in \u001b[36m_assemble_from_unit_mappings\u001b[39m\u001b[34m(arg, errors, utc)\u001b[39m\n\u001b[32m   1163\u001b[39m arg = DataFrame(arg)\n\u001b[32m   1164\u001b[39m \u001b[38;5;28;01mif\u001b[39;00m \u001b[38;5;129;01mnot\u001b[39;00m arg.columns.is_unique:\n\u001b[32m-> \u001b[39m\u001b[32m1165\u001b[39m     \u001b[38;5;28;01mraise\u001b[39;00m \u001b[38;5;167;01mValueError\u001b[39;00m(\u001b[33m\"\u001b[39m\u001b[33mcannot assemble with duplicate keys\u001b[39m\u001b[33m\"\u001b[39m)\n\u001b[32m   1167\u001b[39m \u001b[38;5;66;03m# replace passed unit with _unit_map\u001b[39;00m\n\u001b[32m   1168\u001b[39m \u001b[38;5;28;01mdef\u001b[39;00m\u001b[38;5;250m \u001b[39m\u001b[34mf\u001b[39m(value):\n",
      "\u001b[31mValueError\u001b[39m: cannot assemble with duplicate keys"
     ]
    }
   ],
   "source": [
    "def calculate_daily_returns(df) -> pd.Series:\n",
    "    \"\"\"\n",
    "        Calculate the daily returns from a DataFrame with a 'Close' column.\n",
    "\n",
    "        Parameters:\n",
    "            df (pd.DataFrame): DataFrame containing historical price data with a 'Close' column.\n",
    "\n",
    "        Returns:\n",
    "            pd.Series: A Series of daily return values (as decimal percentages).\n",
    "    \"\"\"\n",
    "\n",
    "    daily_returns = df['close'].pct_change()\n",
    "    # .pct_change() is a built in pandas method \n",
    "    # ( calculates the percentage change between the current and the prev element)\n",
    "    return daily_returns\n",
    "\n",
    "df['timestamp'] = pd.to_datetime(df['timestamp'])\n",
    "\n",
    "df['Daily Return'] = calculate_daily_returns(df)"
   ]
  },
  {
   "cell_type": "markdown",
   "id": "7d1e2f81",
   "metadata": {},
   "source": [
    "## 📊 Daily Returns (`calculate_daily_returns`)\n",
    "\n",
    "### **Significance**\n",
    "Daily returns measure the percentage change in asset price from one day to the next, providing the foundation for all volatility analysis.\n",
    "\n",
    "### **Use Cases**\n",
    "- **Risk assessment** - Understanding daily price movement magnitude\n",
    "- **Performance measurement** - Calculating investment returns over time\n",
    "- **Volatility calculation** - Input for standard deviation and other volatility metrics\n",
    "- **Statistical analysis** - Foundation for probability distributions and risk models\n",
    "\n",
    "### **Example**\n",
    "```python\n",
    "# Bitcoin price: Day 1 = $50,000, Day 2 = $52,000\n",
    "# Daily return = (52,000 - 50,000) / 50,000 = 0.04 (4%)\n",
    "```"
   ]
  },
  {
   "cell_type": "code",
   "execution_count": 34,
   "id": "70804e42",
   "metadata": {},
   "outputs": [],
   "source": [
    "def get_return_std_dev(return_series):\n",
    "    \"\"\"\n",
    "    Calculates the standard deviation of returns from a Series of daily returns.    \n",
    "\n",
    "    Parameters:\n",
    "        return_series (pd.Series): Series containing daily returns.\n",
    "\n",
    "    Returns:\n",
    "        float: The standard deviation of returns, rounded to 4 decimal places.\n",
    "\n",
    "    Example usage:\n",
    "        std_dev = get_return_std_dev(daily_returns)\n",
    "    \"\"\"\n",
    "    return round(return_series.std(), 4)"
   ]
  },
  {
   "cell_type": "markdown",
   "id": "d53ea6fd",
   "metadata": {},
   "source": [
    "## 📈 Standard Deviation (`get_return_std_dev`)\n",
    "\n",
    "### **Significance**\n",
    "Standard deviation quantifies the dispersion of daily returns around their mean, providing a single number that captures overall volatility.\n",
    "\n",
    "### **Use Cases**\n",
    "- **Volatility measurement** - Single metric for asset risk assessment\n",
    "- **Portfolio construction** - Comparing risk across different assets\n",
    "- **Risk management** - Setting position sizes and stop losses\n",
    "- **Performance evaluation** - Risk-adjusted return calculations\n",
    "\n",
    "### **Example**\n",
    "```python\n",
    "# Bitcoin daily returns: [0.02, -0.01, 0.03, -0.02, 0.01]\n",
    "# Standard deviation = 0.019 (1.9% daily volatility)\n",
    "# Interpretation: 68% of days see moves within ±1.9%\n",
    "```\n"
   ]
  },
  {
   "cell_type": "code",
   "execution_count": 37,
   "id": "3122e4bb",
   "metadata": {},
   "outputs": [],
   "source": [
    "def get_rolling_volatility(return_series, window):\n",
    "    \"\"\"\n",
    "    Calculates the rolling standard deviation of returns over a specified window.\n",
    "\n",
    "    Parameters:\n",
    "        return_series (pd.Series): Series containing daily returns.\n",
    "        window (int): The number of days to calculate the rolling standard deviation over.\n",
    "    \n",
    "    Returns:\n",
    "        pd.Series: A Series containing the rolling standard deviation of returns.\n",
    "\n",
    "    Example usage:\n",
    "        rolling_volatility = get_rolling_volatility(daily_returns, 20)\n",
    "    \"\"\"\n",
    "    return return_series.rolling(window).std()  \n"
   ]
  },
  {
   "cell_type": "markdown",
   "id": "53f8a7b7",
   "metadata": {},
   "source": [
    "## 🔄 Rolling Volatility (`get_rolling_volatility`)\n",
    "\n",
    "### **Significance**\n",
    "Rolling volatility measures how volatility changes over time, capturing recent market behavior rather than long-term averages.\n",
    "\n",
    "### **Use Cases**\n",
    "- **Volatility regime detection** - Identifying periods of high/low volatility\n",
    "- **Dynamic risk management** - Adjusting strategies based on current volatility\n",
    "- **Market timing** - Entering/exiting positions based on volatility cycles\n",
    "- **Trend confirmation** - Validating price movements with volatility context\n",
    "\n",
    "### **Example**\n",
    "```python\n",
    "# 10-day rolling volatility: [2.1%, 2.3%, 1.8%, 3.2%, 2.9%]\n",
    "# Interpretation: Volatility increased from 1.8% to 3.2% over 10 days\n",
    "# Trading implication: Market stress increasing, consider reducing position sizes\n",
    "```"
   ]
  },
  {
   "cell_type": "code",
   "execution_count": 21,
   "id": "b33fdf85",
   "metadata": {},
   "outputs": [],
   "source": [
    "return_series = calculate_daily_returns(df)"
   ]
  },
  {
   "cell_type": "code",
   "execution_count": null,
   "id": "4d71643d",
   "metadata": {},
   "outputs": [
    {
     "name": "stdout",
     "output_type": "stream",
     "text": [
      "rolling volatility:  0            NaN\n",
      "1            NaN\n",
      "2            NaN\n",
      "3            NaN\n",
      "4            NaN\n",
      "          ...   \n",
      "2647    0.022218\n",
      "2648    0.022318\n",
      "2649    0.023076\n",
      "2650    0.022436\n",
      "2651    0.021309\n",
      "Name: close, Length: 2652, dtype: float64\n"
     ]
    }
   ],
   "source": [
    "print(\"STD: \", get_return_std_dev(return_series))"
   ]
  },
  {
   "cell_type": "code",
   "execution_count": null,
   "id": "78799541",
   "metadata": {},
   "outputs": [],
   "source": [
    "print(\"rolling volatility: \", get_rolling_volatility(return_series, window = 10))"
   ]
  },
  {
   "cell_type": "markdown",
   "id": "216bd4f8",
   "metadata": {},
   "source": [
    "<font color=\"blue\"> HI </font>"
   ]
  },
  {
   "cell_type": "code",
   "execution_count": 21,
   "id": "4d68165b",
   "metadata": {},
   "outputs": [],
   "source": [
    "def calculate_atr(df: pd.DataFrame, window) -> pd.Series:\n",
    "    \"\"\"\n",
    "    Calculate the Average True Range (ATR) indicator.\n",
    "    \n",
    "    ATR measures volatility by calculating the average of the True Range over a specified period.\n",
    "    True Range is the greatest of:\n",
    "    - Current High - Current Low\n",
    "    - |Current High - Previous Close|\n",
    "    - |Current Low - Previous Close|\n",
    "    \n",
    "    Parameters:\n",
    "        df (pd.DataFrame): DataFrame containing 'high', 'low', and 'close' columns\n",
    "        window (int): Period for calculating the moving average (default: 14)\n",
    "    \n",
    "    Returns:\n",
    "        pd.Series: The Average True Range values\n",
    "    \n",
    "    Example:\n",
    "        atr = calculate_atr(df, window=14)\n",
    "    \"\"\"\n",
    "    # Extract the required price columns\n",
    "    high = df['high']\n",
    "    low = df['low']\n",
    "    close = df['close']\n",
    "    \n",
    "    # Calculate the three components of True Range\n",
    "    # 1. Current High - Current Low\n",
    "    high_low = high - low\n",
    "    \n",
    "    # 2. Absolute value of (Current High - Previous Close)\n",
    "    high_prev_close = np.abs(high - close.shift(1))\n",
    "    \n",
    "    # 3. Absolute value of (Current Low - Previous Close)\n",
    "    low_prev_close = np.abs(low - close.shift(1))\n",
    "    \n",
    "    # True Range is the maximum of the three values\n",
    "    true_range = pd.concat([high_low, high_prev_close, low_prev_close], axis=1).max(axis=1)\n",
    "    \n",
    "    # Calculate ATR using Simple Moving Average\n",
    "    # Note: Traditional ATR uses Wilder's smoothing (EMA), but SMA is also common\n",
    "    atr_sma = true_range.rolling(window=window).mean()\n",
    "    \n",
    "    return atr_sma"
   ]
  },
  {
   "cell_type": "markdown",
   "id": "499c5e02",
   "metadata": {},
   "source": [
    "## 📏 Average True Range (`calculate_atr`)\n",
    "\n",
    "### **Significance**\n",
    "ATR measures actual price volatility by considering gaps and intraday movement, providing a more comprehensive volatility measure than simple price changes.\n",
    "\n",
    "### **Use Cases**\n",
    "- **Stop loss placement** - Dynamic stops based on current volatility\n",
    "- **Position sizing** - Adjusting position size based on market volatility\n",
    "- **Breakout confirmation** - Validating price breakouts with volume/volatility\n",
    "- **Trend strength assessment** - Measuring momentum and trend reliability\n",
    "\n",
    "### **Example**\n",
    "```python\n",
    "# Bitcoin ATR: $2,500\n",
    "# Interpretation: Average daily price range is $2,500\n",
    "# Trading implication: Set stops at least $2,500 from entry price\n",
    "```\n"
   ]
  },
  {
   "cell_type": "code",
   "execution_count": 15,
   "id": "3832dece",
   "metadata": {},
   "outputs": [],
   "source": [
    "high = df['high']\n",
    "low = df['low']\n",
    "close = df['close']\n",
    "high_low = high - low\n",
    "    \n",
    "    # 2. Absolute value of (Current High - Previous Close)\n",
    "high_prev_close = np.abs(high - close.shift(1))\n",
    "    \n",
    "    # 3. Absolute value of (Current Low - Previous Close)\n",
    "low_prev_close = np.abs(low - close.shift(1))\n",
    "true_range = pd.concat([high_low, high_prev_close, low_prev_close], axis=1).max(axis=1)"
   ]
  },
  {
   "cell_type": "code",
   "execution_count": 22,
   "id": "22072780",
   "metadata": {},
   "outputs": [
    {
     "name": "stdout",
     "output_type": "stream",
     "text": [
      "ATR:  0          NaN\n",
      "1          NaN\n",
      "2          NaN\n",
      "3          NaN\n",
      "4          NaN\n",
      "         ...  \n",
      "2647    2363.8\n",
      "2648    2184.3\n",
      "2649    2482.9\n",
      "2650    2695.7\n",
      "2651    2618.6\n",
      "Length: 2652, dtype: float64\n"
     ]
    }
   ],
   "source": [
    "print(\"ATR: \", calculate_atr(df, window = 10))"
   ]
  },
  {
   "cell_type": "code",
   "execution_count": 17,
   "id": "744e8f8c",
   "metadata": {},
   "outputs": [],
   "source": [
    "def calculate_volatility_ratio(df: pd.DataFrame, recent_window: int, long_window: int) -> pd.Series:\n",
    "    \"\"\"\n",
    "    Calculate the volatility ratio of a DataFrame.\n",
    "    \n",
    "    The volatility ratio is calculated as the ratio of the standard deviation of the recent returns to the standard deviation of the long-term returns.\n",
    "    \n",
    "    Parameters:\n",
    "        df (pd.DataFrame): DataFrame containing 'close' column\n",
    "        recent_window (int): Window for recent returns\n",
    "        long_window (int): Window for long-term returns\n",
    "    \n",
    "    Returns:            \n",
    "        pd.Series: The volatility ratio values\n",
    "    \n",
    "    Example:\n",
    "        volatility_ratio = calculate_volatility_ratio(df, recent_window=20, long_window=50)\n",
    "    \"\"\"\n",
    "    # Calculate recent returns  \n",
    "    recent_atr = get_rolling_volatility(df, recent_window)\n",
    "    long_atr = get_rolling_volatility(df, long_window)\n",
    "\n",
    "    # Calculate volatility ratio\n",
    "    volatility_ratio = recent_atr / long_atr\n",
    "\n",
    "    return volatility_ratio"
   ]
  },
  {
   "cell_type": "markdown",
   "id": "76f3e9a0",
   "metadata": {},
   "source": [
    "## ⚖️ Volatility Ratio (`calculate_volatility_ratio`)\n",
    "\n",
    "### **Significance**\n",
    "Volatility ratio compares recent volatility to long-term volatility, identifying when market conditions are changing relative to historical norms.\n",
    "\n",
    "### **Use Cases**\n",
    "- **Regime shift detection** - Identifying when market behavior fundamentally changes\n",
    "- **Risk adjustment** - Scaling positions based on volatility regime\n",
    "- **Market timing** - Entering positions when volatility is low and expected to rise\n",
    "- **Portfolio allocation** - Adjusting exposure based on volatility conditions\n",
    "\n",
    "### **Example**\n",
    "```python\n",
    "# Volatility ratio: 1.5\n",
    "# Interpretation: Recent volatility is 50% higher than long-term average\n",
    "# Trading implication: Market stress increasing, reduce position sizes\n",
    "```\n"
   ]
  },
  {
   "cell_type": "code",
   "execution_count": 18,
   "id": "9a82ecd1",
   "metadata": {},
   "outputs": [
    {
     "name": "stdout",
     "output_type": "stream",
     "text": [
      "Volatility Ratio:  0            NaN\n",
      "1            NaN\n",
      "2            NaN\n",
      "3            NaN\n",
      "4            NaN\n",
      "          ...   \n",
      "2647    0.874396\n",
      "2648    0.837973\n",
      "2649    0.789703\n",
      "2650    0.805635\n",
      "2651    0.794770\n",
      "Length: 2652, dtype: float64\n"
     ]
    }
   ],
   "source": [
    "print(\"Volatility Ratio: \", calculate_volatility_ratio(df, recent_window=20, long_window=50))\n"
   ]
  },
  {
   "cell_type": "markdown",
   "id": "ceaf6ab3",
   "metadata": {},
   "source": [
    "Understanding the Return Value\n",
    "The ratio tells you:\n",
    "Ratio > 1.0 = Recent volatility is higher than long-term volatility\n",
    "Ratio = 1.0 = Recent volatility equals long-term volatility\n",
    "Ratio < 1.0 = Recent volatility is lower than long-term volatility\n",
    "Practical Interpretation\n",
    "High Volatility Ratio (> 1.0):\n",
    "Market stress - Recent price movements are more volatile than usual\n",
    "Increased uncertainty - Market participants are more anxious\n",
    "Potential opportunities - Higher volatility often creates trading opportunities\n",
    "Risk warning - May indicate market instability or trend changes\n",
    "Low Volatility Ratio (< 1.0):\n",
    "Market calm - Recent price movements are less volatile than usual\n",
    "Complacency - Market participants may be too comfortable\n",
    "Potential complacency trap - Low volatility often precedes large moves\n",
    "Range-bound markets - May indicate sideways consolidation"
   ]
  },
  {
   "cell_type": "code",
   "execution_count": 40,
   "id": "0c4372e3",
   "metadata": {},
   "outputs": [],
   "source": [
    "def calculate_bollinger_bands(df: pd.DataFrame, window: int, num_std_dev: int) -> pd.DataFrame:\n",
    "    \"\"\"\n",
    "    Calculate Bollinger Bands for a DataFrame.\n",
    "    \n",
    "    Bollinger Bands are a technical analysis tool that consists of three lines:\n",
    "    - Middle Band: Moving average of the closing prices\n",
    "    - Upper Band: Middle Band + (num_std_dev * standard deviation of the closing prices)\n",
    "    - Lower Band: Middle Band - (num_std_dev * standard deviation of the closing prices)\n",
    "\n",
    "    Parameters:\n",
    "        df (pd.DataFrame): DataFrame containing 'close' column\n",
    "        window (int): Window for the moving average\n",
    "        num_std_dev (int): Number of standard deviations to include in the bands\n",
    "\n",
    "    Returns:\n",
    "        pd.DataFrame: DataFrame containing the Bollinger Bands\n",
    "\n",
    "    Example:\n",
    "        bollinger_bands = calculate_bollinger_bands(df, window=20, num_std_dev=2)  \n",
    "\n",
    "    \"\"\"\n",
    "\n",
    "    closing_prices = df['close']\n",
    "\n",
    "    middle_band = closing_prices.rolling(window=window).mean()\n",
    "\n",
    "    rolling_std = closing_prices.rolling(window=window).std()\n",
    "\n",
    "    upper_band = middle_band + (num_std_dev * rolling_std)\n",
    "\n",
    "    lower_band = middle_band - (num_std_dev * rolling_std)\n",
    "\n",
    "    bollinger_bands = pd.DataFrame({\n",
    "        'middle_band': middle_band,\n",
    "        'upper_band': upper_band,\n",
    "        'lower_band': lower_band\n",
    "    })\n",
    "\n",
    "    return bollinger_bands"
   ]
  },
  {
   "cell_type": "markdown",
   "id": "4041bc10",
   "metadata": {},
   "source": [
    "## 📊 Bollinger Bands (`calculate_bollinger_bands`)\n",
    "\n",
    "### **Significance**\n",
    "Bollinger Bands create dynamic support/resistance levels based on price volatility, helping identify overbought/oversold conditions and potential breakouts.\n",
    "\n",
    "### **Use Cases**\n",
    "- **Overbought/oversold identification** - Price at band extremes suggests reversal\n",
    "- **Breakout detection** - Price breaking through bands indicates trend continuation\n",
    "- **Volatility measurement** - Band width indicates current volatility level\n",
    "- **Mean reversion trading** - Trading price returns to the middle band\n",
    "\n",
    "### **Example**\n",
    "```python\n",
    "# Bitcoin price: $50,000\n",
    "# Upper band: $52,000, Lower band: $48,000, Middle band: $50,000\n",
    "# Interpretation: Price at middle band, normal volatility\n",
    "# Trading implication: No extreme conditions, follow trend direction\n",
    "```"
   ]
  },
  {
   "cell_type": "code",
   "execution_count": 41,
   "id": "bf3a257f",
   "metadata": {},
   "outputs": [],
   "source": [
    "def calculate_bollinger_bands_width(df: pd.DataFrame, window: int, num_std_dev: int) -> pd.Series:\n",
    "    \"\"\"\n",
    "    Calculate the width of Bollinger Bands.\n",
    "    \n",
    "    The width is calculated as the difference between the upper and lower bands divided by the middle band.\n",
    "\n",
    "    Parameters:\n",
    "        df (pd.DataFrame): DataFrame containing 'close' column\n",
    "        window (int): Window for the moving average\n",
    "        num_std_dev (int): Number of standard deviations to include in the bands\n",
    "\n",
    "    Returns:\n",
    "        pd.Series: The width of the Bollinger Bands                                                                 \n",
    "\n",
    "    Example:\n",
    "        bollinger_bands_width = calculate_bollinger_bands_width(df, window=20, num_std_dev=2)\n",
    "    \"\"\"\n",
    "    bollinger_bands = calculate_bollinger_bands(df, window, num_std_dev)\n",
    "\n",
    "    return (bollinger_bands['upper_band'] - bollinger_bands['lower_band']) / bollinger_bands['middle_band']"
   ]
  },
  {
   "cell_type": "markdown",
   "id": "032358ad",
   "metadata": {},
   "source": [
    "## 📏 Bollinger Bands Width (`calculate_bollinger_bands_width`)\n",
    "\n",
    "### **Significance**\n",
    "Bollinger Bands width measures relative volatility by comparing current price ranges to recent history, providing context for volatility interpretation.\n",
    "\n",
    "### **Use Cases**\n",
    "- **Volatility regime identification** - Detecting when volatility is expanding/contracting\n",
    "- **Breakout confirmation** - Width expansion validates price breakouts\n",
    "- **Squeeze pattern detection** - Narrow width often precedes major moves\n",
    "- **Risk management** - Adjusting strategies based on volatility context\n",
    "\n",
    "### **Example**\n",
    "```python\n",
    "# BB Width: 0.08 (8%)\n",
    "# Interpretation: Current volatility is 8% of price level\n",
    "# Trading implication: Moderate volatility, normal trading conditions\n",
    "```\n"
   ]
  },
  {
   "cell_type": "code",
   "execution_count": 46,
   "id": "e3afed1d",
   "metadata": {},
   "outputs": [
    {
     "name": "stdout",
     "output_type": "stream",
     "text": [
      "Bollinger Bands Width:  0            NaN\n",
      "1            NaN\n",
      "2       0.142365\n",
      "3       0.078120\n",
      "4       0.093647\n",
      "          ...   \n",
      "2647    0.018002\n",
      "2648    0.016208\n",
      "2649    0.017102\n",
      "2650    0.013621\n",
      "2651    0.012642\n",
      "Length: 2652, dtype: float64\n"
     ]
    }
   ],
   "source": [
    "print(\"Bollinger Bands Width: \", calculate_bollinger_bands_width(df, window=3, num_std_dev=1))\n"
   ]
  },
  {
   "cell_type": "code",
   "execution_count": 20,
   "id": "54cec009",
   "metadata": {},
   "outputs": [
    {
     "name": "stdout",
     "output_type": "stream",
     "text": [
      "Bollinger Bands:        middle_band    upper_band    lower_band\n",
      "0             NaN           NaN           NaN\n",
      "1             NaN           NaN           NaN\n",
      "2             NaN           NaN           NaN\n",
      "3             NaN           NaN           NaN\n",
      "4             NaN           NaN           NaN\n",
      "...           ...           ...           ...\n",
      "2647     95904.90  1.506176e+07 -1.486995e+07\n",
      "2648     96732.00  1.402575e+07 -1.383229e+07\n",
      "2649     97197.05  1.526176e+07 -1.506737e+07\n",
      "2650     97726.00  1.685802e+07 -1.666257e+07\n",
      "2651     98212.05  1.764076e+07 -1.744434e+07\n",
      "\n",
      "[2652 rows x 3 columns]\n"
     ]
    }
   ],
   "source": [
    "print(\"Bollinger Bands: \", calculate_bollinger_bands(df, window=20, std_dev=2))\n"
   ]
  },
  {
   "cell_type": "markdown",
   "id": "13a89d2d",
   "metadata": {},
   "source": [
    "## 🎯 Key Relationships Between Metrics\n",
    "\n",
    "### **Complementary Analysis**\n",
    "- **Daily Returns + Standard Deviation** = Overall risk profile\n",
    "- **Rolling Volatility + Volatility Ratio** = Volatility regime changes\n",
    "- **ATR + Bollinger Bands** = Dynamic support/resistance with volatility context\n",
    "- **BB Width + Volatility Ratio** = Comprehensive volatility regime analysis\n",
    "\n",
    "### **Trading Strategy Integration**\n",
    "1. **Use standard deviation** for initial risk assessment\n",
    "2. **Monitor rolling volatility** for regime changes\n",
    "3. **Apply ATR** for dynamic position management\n",
    "4. **Use volatility ratio** for strategic allocation decisions\n",
    "5. **Combine with BB width** for entry/exit timing\n",
    "\n",
    "### **Risk Management Hierarchy**\n",
    "1. **Position sizing** based on standard deviation\n",
    "2. **Stop placement** using ATR\n",
    "3. **Entry timing** with Bollinger Bands\n",
    "4. **Regime adjustment** via volatility ratio\n",
    "5. **Volatility confirmation** through BB width "
   ]
  },
  {
   "cell_type": "markdown",
   "id": "27eede9b",
   "metadata": {},
   "source": [
    "## Volume Metrics"
   ]
  },
  {
   "cell_type": "code",
   "execution_count": 3,
   "id": "b7021878",
   "metadata": {},
   "outputs": [],
   "source": [
    "def volume_change(df: pd.DataFrame) -> pd.Series:\n",
    "    \"\"\"\n",
    "    Calculate the volume change of a DataFrame.\n",
    "    \n",
    "    The volume change is calculated as the ratio of the current volume to the previous volume.\n",
    "    \n",
    "    Parameters:\n",
    "        df (pd.DataFrame): DataFrame containing 'volume' column\n",
    "    \n",
    "    Returns:\n",
    "        pd.Series: The volume change values\n",
    "    \"\"\"\n",
    "\n",
    "    volume_change = df[\"volume\"].pct_change()\n",
    "\n",
    "    return volume_change"
   ]
  },
  {
   "cell_type": "markdown",
   "id": "01a0f86a",
   "metadata": {},
   "source": [
    "## 📊 Volume Change (`volume_change`)\n",
    "\n",
    "### **Significance**\n",
    "Volume change measures the percentage change in trading volume from one period to the next, providing insight into market participation dynamics and momentum shifts.\n",
    "\n",
    "### **Use Cases**\n",
    "- **Momentum confirmation** - Increasing volume validates price movements\n",
    "- **Divergence detection** - Price up with volume down suggests weak moves\n",
    "- **Breakout validation** - High volume changes confirm genuine breakouts\n",
    "- **Market exhaustion** - Declining volume changes may signal trend end\n",
    "- **Liquidity assessment** - Understanding market depth and participation\n",
    "\n",
    "### **Example**\n",
    "```python\n",
    "# Volume change: +0.25 (25%)\n",
    "# Interpretation: Volume increased 25% from previous period\n",
    "# Trading implication: Strong market participation supporting current price action\n",
    "\n",
    "# Volume change: -0.15 (-15%)\n",
    "# Interpretation: Volume decreased 15% from previous period\n",
    "# Trading implication: Declining participation, potential trend weakness\n",
    "```"
   ]
  },
  {
   "cell_type": "code",
   "execution_count": 6,
   "id": "d3df0d2e",
   "metadata": {},
   "outputs": [
    {
     "name": "stdout",
     "output_type": "stream",
     "text": [
      "Volume Change:  0             NaN\n",
      "1       -0.072307\n",
      "2        0.139065\n",
      "3       -0.167478\n",
      "4        0.093418\n",
      "           ...   \n",
      "12628   -0.314860\n",
      "12629    0.737151\n",
      "12630   -0.659684\n",
      "12631    0.660965\n",
      "12632    0.305590\n",
      "Name: volume, Length: 12633, dtype: float64\n"
     ]
    }
   ],
   "source": [
    "print(\"Volume Change: \", volume_change(df))"
   ]
  },
  {
   "cell_type": "code",
   "execution_count": 8,
   "id": "c9cb67f6",
   "metadata": {},
   "outputs": [],
   "source": [
    "def relative_volume_change(df: pd.DataFrame, window: int) -> pd.Series:\n",
    "    \"\"\"\n",
    "    Calculate the relative volume change of a DataFrame.\n",
    "    \n",
    "    The relative volume change is calculated as the ratio of the current volume to the previous volume.\n",
    "    \n",
    "    Parameters:\n",
    "        df (pd.DataFrame): DataFrame containing 'volume' column\n",
    "        window (int): Window for the moving average\n",
    "    \n",
    "    Returns:\n",
    "        pd.Series: The relative volume change values\n",
    "    \"\"\"\n",
    "\n",
    "    N_day_avg_volume = df[\"volume\"].rolling(window=window).mean()\n",
    "    current_volume = df[\"volume\"]\n",
    "\n",
    "    relative_volume_change = current_volume / N_day_avg_volume\n",
    "\n",
    "    return relative_volume_change\n",
    "    "
   ]
  },
  {
   "cell_type": "markdown",
   "id": "1ac96fa8",
   "metadata": {},
   "source": [
    "## 📈 Relative Volume Change (`relative_volume_change`)\n",
    "\n",
    "### **Significance**\n",
    "Relative volume change compares current volume to its recent average, providing context for whether current trading activity is above or below normal levels.\n",
    "\n",
    "### **Use Cases**\n",
    "- **Volume spike detection** - Identifying unusual trading activity\n",
    "- **Breakout confirmation** - High relative volume validates price breakouts\n",
    "- **Market interest assessment** - Understanding if current activity is normal or exceptional\n",
    "- **Trend strength validation** - Strong trends should show above-average volume\n",
    "- **Reversal signals** - Volume spikes often precede major reversals\n",
    "\n",
    "### **Interpretation**\n",
    "- **Ratio > 1.0** = Current volume above average → High market interest\n",
    "- **Ratio = 1.0** = Current volume equals average → Normal market activity\n",
    "- **Ratio < 1.0** = Current volume below average → Low market interest\n",
    "\n",
    "### **Example**\n",
    "```python\n",
    "# Relative volume: 1.5\n",
    "# Interpretation: Current volume is 50% above the 5-day average\n",
    "# Trading implication: Exceptional market interest, strong move likely\n",
    "\n",
    "# Relative volume: 0.7\n",
    "# Interpretation: Current volume is 30% below the 5-day average\n",
    "# Trading implication: Low participation, weak move or consolidation\n",
    "```"
   ]
  },
  {
   "cell_type": "code",
   "execution_count": 10,
   "id": "27dc6834",
   "metadata": {},
   "outputs": [
    {
     "name": "stdout",
     "output_type": "stream",
     "text": [
      "relative_volume_change 0             NaN\n",
      "1             NaN\n",
      "2             NaN\n",
      "3             NaN\n",
      "4        0.996585\n",
      "           ...   \n",
      "12628    0.934191\n",
      "12629    1.325564\n",
      "12630    0.481865\n",
      "12631    0.850919\n",
      "12632    1.146226\n",
      "Name: volume, Length: 12633, dtype: float64\n"
     ]
    }
   ],
   "source": [
    "print(\"relative_volume_change\", relative_volume_change(df, 5))"
   ]
  },
  {
   "cell_type": "code",
   "execution_count": 17,
   "id": "e9c647f1",
   "metadata": {},
   "outputs": [],
   "source": [
    "def calculate_volume_trend(df: pd.DataFrame, window: int) -> pd.Series:\n",
    "    \"\"\"\n",
    "    Calculate the volume trend of a DataFrame.\n",
    "    \n",
    "    The volume trend is calculated as slope of linear regression of volume over time.\n",
    "    \n",
    "    Parameters:\n",
    "        df (pd.DataFrame): DataFrame containing 'volume' column\n",
    "        window (int): Window for the moving average\n",
    "    \n",
    "    Returns:    \n",
    "        pd.Series: The volume trend values\n",
    "    \"\"\"\n",
    "    \n",
    "    def calculate_slope(values):\n",
    "        \"\"\"Calculate the slope of linear regression for a series of values.\"\"\"\n",
    "        if len(values) < 2 or values.isna().any():\n",
    "            return np.nan\n",
    "        \n",
    "        # Create x values (time indices)\n",
    "        x = np.arange(len(values))\n",
    "        \n",
    "        # Fit linear regression (degree 1 polynomial)\n",
    "        # polyfit returns [slope, intercept]\n",
    "        coefficients = np.polyfit(x, values, 1)\n",
    "        \n",
    "        # Return the slope (first coefficient)\n",
    "        return coefficients[0]\n",
    "    \n",
    "    # Apply rolling window and calculate slope for each window\n",
    "    volume_trend = df[\"volume\"].rolling(window=window).apply(calculate_slope, raw=False)\n",
    "    \n",
    "    return volume_trend\n",
    "    "
   ]
  },
  {
   "cell_type": "markdown",
   "id": "38eb39b4",
   "metadata": {},
   "source": [
    "## 📈 Volume Trend (`calculate_volume_trend`)\n",
    "\n",
    "### **Significance**\n",
    "Volume trend measures the direction and strength of volume changes over time using linear regression slope. This indicates whether market interest is strengthening (positive slope) or weakening (negative slope).\n",
    "\n",
    "### **Use Cases**\n",
    "- **Market interest assessment** - Determining if participation is increasing or decreasing\n",
    "- **Trend confirmation** - Strong price trends should be accompanied by increasing volume\n",
    "- **Divergence detection** - Price up with volume down = potential weakness\n",
    "- **Breakout validation** - True breakouts show increasing volume trends\n",
    "- **Market exhaustion** - Declining volume trends may signal end of moves\n",
    "\n",
    "### **Interpretation**\n",
    "- **Positive slope** = Volume increasing over time → Growing market interest\n",
    "- **Negative slope** = Volume decreasing over time → Waning market interest\n",
    "- **Slope magnitude** = Rate of change in market participation\n",
    "\n",
    "### **Example**\n",
    "```python\n",
    "# Volume trend slope: +50,000 per day\n",
    "# Interpretation: Volume is increasing by 50,000 units per day\n",
    "# Trading implication: Strong market interest supporting the current trend\n",
    "\n",
    "# Volume trend slope: -30,000 per day\n",
    "# Interpretation: Volume is decreasing by 30,000 units per day  \n",
    "# Trading implication: Market interest fading, potential trend exhaustion\n",
    "```"
   ]
  },
  {
   "cell_type": "code",
   "execution_count": 18,
   "id": "fabe23e3",
   "metadata": {},
   "outputs": [
    {
     "name": "stdout",
     "output_type": "stream",
     "text": [
      "Volume Trend (20-day window):\n",
      "12623   -1.475384e+08\n",
      "12624   -1.655589e+08\n",
      "12625   -1.556525e+08\n",
      "12626   -1.019919e+08\n",
      "12627   -4.682997e+07\n",
      "12628    2.666698e+07\n",
      "12629    6.866727e+07\n",
      "12630    4.647051e+07\n",
      "12631    3.754462e+07\n",
      "12632    5.957173e+07\n",
      "Name: volume, dtype: float64\n",
      "\n",
      "Volume Trend (50-day window):\n",
      "12623   -5.867641e+05\n",
      "12624   -9.313247e+06\n",
      "12625   -1.292543e+07\n",
      "12626   -9.334225e+06\n",
      "12627   -3.052474e+06\n",
      "12628   -1.216015e+06\n",
      "12629    5.423030e+06\n",
      "12630    2.475322e+06\n",
      "12631   -3.035335e+06\n",
      "12632   -6.192634e+06\n",
      "Name: volume, dtype: float64\n"
     ]
    }
   ],
   "source": [
    "# Test the volume trend calculation\n",
    "volume_trend_20 = calculate_volume_trend(df, window=20)\n",
    "volume_trend_50 = calculate_volume_trend(df, window=50)\n",
    "\n",
    "print(\"Volume Trend (20-day window):\")\n",
    "print(volume_trend_20.tail(10))\n",
    "print(\"\\nVolume Trend (50-day window):\")\n",
    "print(volume_trend_50.tail(10))\n"
   ]
  }
 ],
 "metadata": {
  "kernelspec": {
   "display_name": "venv",
   "language": "python",
   "name": "python3"
  },
  "language_info": {
   "codemirror_mode": {
    "name": "ipython",
    "version": 3
   },
   "file_extension": ".py",
   "mimetype": "text/x-python",
   "name": "python",
   "nbconvert_exporter": "python",
   "pygments_lexer": "ipython3",
   "version": "3.11.5"
  }
 },
 "nbformat": 4,
 "nbformat_minor": 5
}
